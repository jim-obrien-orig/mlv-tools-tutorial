{
 "cells": [
  {
   "cell_type": "markdown",
   "metadata": {},
   "source": [
    "# Classify text\n",
    "We are going to train a classifier on the tokenized text input, using the [FastText libary](https://fasttext.cc/). \n",
    "\n",
    "In addition to the input data file, we give to the command a few hyperparameter values, and we store the binary file representing the learned model as output.\n",
    "\n",
    "We only learn for a few epochs, to see how the versioning tools work. \n"
   ]
  },
  {
   "cell_type": "code",
   "execution_count": null,
   "metadata": {},
   "outputs": [],
   "source": [
    "# Parameters\n",
    "\"\"\"\n",
    ":param str input_csv_file: Path to input file\n",
    ":param str out_model_path: Path to model files\n",
    ":param float learning_rate: Learning rate\n",
    ":param int epochs: Number of epochs\n",
    "\n",
    ":dvc-in input_csv_file: ./poc/data/data_train_tokenized.csv\n",
    ":dvc-out out_model_path: ./poc/data/fasttext_model.bin\n",
    ":dvc-out: ./poc/data/fasttext_model.vec\n",
    ":dvc-extra: --learning-rate 0.7 --epochs 20\n",
    "\"\"\"\n",
    "# Value of parameters for this Jupyter Notebook only\n",
    "# the notebook is in ./poc/pipeline/notebooks\n",
    "input_csv_file = \"../../data_train_tokenized.csv\"\n",
    "out_model_path = '../../data/fasttext_model'\n",
    "learning_rate = .7\n",
    "epochs = 20"
   ]
  },
  {
   "cell_type": "code",
   "execution_count": null,
   "metadata": {},
   "outputs": [],
   "source": [
    "import pandas as pd\n",
    "import numpy as np\n",
    "from collections import Counter\n",
    "from pyfasttext import FastText\n",
    "import tempfile\n",
    "import os"
   ]
  },
  {
   "cell_type": "code",
   "execution_count": null,
   "metadata": {},
   "outputs": [],
   "source": [
    "df = pd.read_csv(input_csv_file)"
   ]
  },
  {
   "cell_type": "code",
   "execution_count": null,
   "metadata": {},
   "outputs": [],
   "source": [
    "import json\n",
    "df['data'] = df['data'].apply(lambda s: json.loads(s.replace(\"'\", '\"')))"
   ]
  },
  {
   "cell_type": "code",
   "execution_count": null,
   "metadata": {},
   "outputs": [],
   "source": [
    "with tempfile.TemporaryDirectory() as tmp_dir:\n",
    "    tmp_path = os.path.join(tmp_dir, 'unigrams')\n",
    "    with open(tmp_path, 'w') as f:\n",
    "        for text, _, lab in df.itertuples(index=False, name=None):\n",
    "            f.write('__label__{} {}\\n'.format(lab, ' '.join(text)))\n",
    "            \n",
    "    model = FastText()\n",
    "    # Fastext automatically add .bin at the end of the output model file name\n",
    "    out_model_path = out_model_path.replace('.bin', '')\n",
    "    model.supervised(input=tmp_path, output=out_model_path, epoch=epochs, lr=learning_rate)"
   ]
  }
 ],
 "metadata": {
  "kernelspec": {
   "display_name": "Python 3",
   "language": "python",
   "name": "python3"
  },
  "language_info": {
   "codemirror_mode": {
    "name": "ipython",
    "version": 3
   },
   "file_extension": ".py",
   "mimetype": "text/x-python",
   "name": "python",
   "nbconvert_exporter": "python",
   "pygments_lexer": "ipython3",
   "version": "3.6.5"
  }
 },
 "nbformat": 4,
 "nbformat_minor": 2
}
